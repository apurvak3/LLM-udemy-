import requests
import json



OLLAMA_API = "http://localhost:11434/api/chat"
MODEL = "llama3"


message=[{"role":"system" , "content":"your are a website summarizer"},
         {"role":"user" , "content":"here is the url"}
        ]


payload={
    "model": MODEL,
    "message": message,
    "stream": False 
}


response = requests.post(OLLAMA_API, headers={"Content-Type": "application/json"}, data=json.dumps(payload))

if response.status_code == 200:
    subject_line = response.json()['message']['content']
    print("Send the url", subject_line)
else:
    print("Error:", response.status_code, response.text)




