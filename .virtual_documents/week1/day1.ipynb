import os
import requests
from dotenv import load_dotenv
from bs4 import BeautifulSoup  # ✅ Class name should be capitalized
from IPython.display import display, Markdown  # ✅ Correct import for displaying markdown
from openai import OpenAI  # ✅ This depends on how you're using the OpenAI SDK



load_dotenv()
api_key = os.getenv('OPENAI_API_KEY')

if not api_key:
  print("no Api key was found")
else:
  print("Api key was found and look good so far")


openai = OpenAI()





import requests
from bs4 import BeautifulSoup

class Website:
    """
    A utility class to represent a website that we have scraped
    """
    
    def __init__(self, url):
        """
        Create this website object from the given URL using the BeautifulSoup library
        """
        self.url = url
        response = requests.get(url)
        soup = BeautifulSoup(response.content, 'html.parser')
        self.title = soup.title.string if soup.title else "No title found"

        # Remove irrelevant tags
        for irrelevant in soup.body(["script", "style", "img", "input"]):
            irrelevant.decompose()

        # Get cleaned text
        self.text = soup.body.get_text(separator='\n', strip=True)

    
    


def user_prompt_for(website):
    user_prompt = f"You are looking at a website titled {website.title}.\n"
    user_prompt += "The content of this website is as follows.\n"
    user_prompt += "Please provide a short summary of the website in markdown.\n"
    user_prompt += "If it includes news or announcements, then summarize them too.\n\n"
    user_prompt += website.text
    return user_prompt
ed = Website("https://newsletter.systemdesign.one/")
print(ed.title)
print(ed.text)
print(user_prompt_for((ed))
# Example usage (ed should be an object with `title` and `text` attributes)
# print(user_prompt_for(ed))




