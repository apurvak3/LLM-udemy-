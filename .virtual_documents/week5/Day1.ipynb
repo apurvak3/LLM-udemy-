pip install gradio


import os
import glob
from dotenv import load_dotenv
import gradio as gr
from openai import OpenAI


OLLAMA_API = "http://localhost:11434/api/chat"
MODEL = "llama3"


context = {}

employees = glob.glob("knowledge-base/employees/*")

for employee in employees:
    name = employee.split(' ')[-1][:-3]
    doc = ""
    with open(employee, "r", encoding="utf-8") as f:
        doc = f.read()
    context[name]=doc


context["Lancaster"]


products = glob.glob("knowledge-base/products/*")

for product in products:
    name = product.split(os.sep)[-1][:-3]
    doc = ""
    with open(product, "r", encoding="utf-8") as f:
        doc = f.read()
    context[name]=doc



