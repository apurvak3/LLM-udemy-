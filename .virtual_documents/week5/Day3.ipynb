pip install langchain



pip install -U langchain-community


from langchain.document_loaders import DirectoryLoader, TextLoader
from langchain.text_splitter import CharacterTextSplitter
from langchain.schema import Document
from langchain_community.llms import Ollama
from langchain.prompts import PromptTemplate
from langchain.chains import LLMChain
from langchain_community.embeddings import HuggingFaceEmbeddings
from langchain.vectorstores import Chroma  # ✅ corrected
import numpy as np
from sklearn.manifold import TSNE
import plotly.graph_objects as go



