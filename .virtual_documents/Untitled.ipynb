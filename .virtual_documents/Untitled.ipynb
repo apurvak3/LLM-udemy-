import os
import requests
from dotenv import load_dotenv
from bs4 import BeautifulSoup  # ✅ Class name should be capitalized
from IPython.display import display, Markdown  # ✅ Correct import for displaying markdown
from openai import OpenAI  # ✅ This depends on how you're using the OpenAI SDK



load_dotenv()
api_key = os.getenv('OPENAI_API_KEY')

if not api_key:
  print("no Api key was found")
else:
  print("Api key was found and look good so far")


openai = openAI()



