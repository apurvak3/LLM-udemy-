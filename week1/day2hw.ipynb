{
 "cells": [
  {
   "cell_type": "code",
   "execution_count": 5,
   "id": "db00f169-4e35-4cff-a18a-76f7003e3a40",
   "metadata": {},
   "outputs": [],
   "source": [
    "import requests\n",
    "import json\n"
   ]
  },
  {
   "cell_type": "code",
   "execution_count": 7,
   "id": "1cd9a86e-0232-45ee-8eaa-b3e77d0d49f8",
   "metadata": {},
   "outputs": [],
   "source": [
    "OLLAMA_API = \"http://localhost:11434/api/chat\"\n",
    "MODEL = \"llama3\""
   ]
  },
  {
   "cell_type": "code",
   "execution_count": 9,
   "id": "83c6d0b4-3f45-4233-b4d0-5834dc54fe01",
   "metadata": {},
   "outputs": [],
   "source": [
    "message=[{\"role\":\"system\" , \"content\":\"your are a website summarizer\"},\n",
    "         {\"role\":\"user\" , \"content\":\"here is the url\"}\n",
    "        ]"
   ]
  },
  {
   "cell_type": "code",
   "execution_count": 11,
   "id": "4b71766b-80d0-4a68-845e-d84bc39d348e",
   "metadata": {},
   "outputs": [],
   "source": [
    "payload={\n",
    "    \"model\": MODEL,\n",
    "    \"message\": message,\n",
    "    \"stream\": False \n",
    "}"
   ]
  },
  {
   "cell_type": "code",
   "execution_count": 13,
   "id": "dcbd9940-811b-4e5a-82da-ed7e462ac92f",
   "metadata": {},
   "outputs": [
    {
     "name": "stdout",
     "output_type": "stream",
     "text": [
      "Suggested Subject Line: \n"
     ]
    }
   ],
   "source": [
    "response = requests.post(OLLAMA_API, headers={\"Content-Type\": \"application/json\"}, data=json.dumps(payload))\n",
    "\n",
    "if response.status_code == 200:\n",
    "    subject_line = response.json()['message']['content']\n",
    "    print(\"Send the url\", subject_line)\n",
    "else:\n",
    "    print(\"Error:\", response.status_code, response.text)\n"
   ]
  },
  {
   "cell_type": "code",
   "execution_count": null,
   "id": "9a1e1d33-baf9-4938-b194-9180768d6ab7",
   "metadata": {},
   "outputs": [],
   "source": []
  }
 ],
 "metadata": {
  "kernelspec": {
   "display_name": "Python [conda env:base] *",
   "language": "python",
   "name": "conda-base-py"
  },
  "language_info": {
   "codemirror_mode": {
    "name": "ipython",
    "version": 3
   },
   "file_extension": ".py",
   "mimetype": "text/x-python",
   "name": "python",
   "nbconvert_exporter": "python",
   "pygments_lexer": "ipython3",
   "version": "3.12.7"
  }
 },
 "nbformat": 4,
 "nbformat_minor": 5
}
