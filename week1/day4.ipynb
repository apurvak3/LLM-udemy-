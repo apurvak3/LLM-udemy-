{
 "cells": [
  {
   "cell_type": "code",
   "execution_count": 7,
   "id": "0f46a000-424a-4e96-88e7-bef1fc919634",
   "metadata": {},
   "outputs": [],
   "source": [
    "import os\n",
    "import json\n",
    "from typing import List\n",
    "from dotenv import load_dotenv\n",
    "from bs4 import BeautifulSoup\n",
    "from IPython.display import Markdown, display, update_display\n",
    "import openai\n",
    "\n"
   ]
  },
  {
   "cell_type": "code",
   "execution_count": 11,
   "id": "6cb72bd0-989a-4278-b3ee-adbdc237912f",
   "metadata": {},
   "outputs": [
    {
     "name": "stdout",
     "output_type": "stream",
     "text": [
      "Api key was found and look good so far\n"
     ]
    }
   ],
   "source": [
    "\n",
    "load_dotenv()\n",
    "api_key = os.getenv('OPENAI_API_KEY')\n",
    "\n",
    "if not api_key:\n",
    "  print(\"no Api key was found\")\n",
    "else:\n",
    "  print(\"Api key was found and look good so far\")"
   ]
  },
  {
   "cell_type": "code",
   "execution_count": 13,
   "id": "b6a02712-0237-404c-888c-4932a93ed2b0",
   "metadata": {},
   "outputs": [],
   "source": [
    "model = \"gpt-4-1106-preview\"  # or another valid model name\n",
    "import openai\n"
   ]
  },
  {
   "cell_type": "code",
   "execution_count": 22,
   "id": "106413fb-0e13-42c9-9197-4d8820b6a128",
   "metadata": {},
   "outputs": [],
   "source": [
    "import requests\n",
    "from bs4 import BeautifulSoup\n",
    "\n",
    "class Website:\n",
    "    \"\"\"\n",
    "    A utility to represent a website that we have scraped now with link\n",
    "    \"\"\"\n",
    "    def __init__(self, url: str):\n",
    "        self.url = url\n",
    "        response = requests.get(url)\n",
    "        \n",
    "        if response.status_code != 200:\n",
    "            raise Exception(f\"Failed to fetch the {url}: status code: {response.status_code}\")\n",
    "\n",
    "        self.body = response.content\n",
    "        soup = BeautifulSoup(self.body, 'html.parser')\n",
    "\n",
    "        self.title = soup.title.string.strip() if soup.title and soup.title.string else \"No title found\"\n",
    "        self.links = [a.get('href') for a in soup.find_all('a', href=True)]\n",
    "        self.text = soup.get_text(strip=True)\n"
   ]
  },
  {
   "cell_type": "code",
   "execution_count": 24,
   "id": "ffb37b74-c617-47bb-a211-5bbd20b726d0",
   "metadata": {},
   "outputs": [],
   "source": [
    "def get_contents(self):\n",
    "    return f\"webpage Title :{self.title}\\nLinks found :{len(self.links)}\\nText Snippet:[self.text[:200]..\" "
   ]
  },
  {
   "cell_type": "code",
   "execution_count": 26,
   "id": "3e4ca7dd-7485-4ddb-a6e3-22196f479e70",
   "metadata": {},
   "outputs": [
    {
     "ename": "AttributeError",
     "evalue": "'Website' object has no attribute 'get_contents'",
     "output_type": "error",
     "traceback": [
      "\u001b[1;31m---------------------------------------------------------------------------\u001b[0m",
      "\u001b[1;31mAttributeError\u001b[0m                            Traceback (most recent call last)",
      "Cell \u001b[1;32mIn[26], line 2\u001b[0m\n\u001b[0;32m      1\u001b[0m ed \u001b[38;5;241m=\u001b[39m Website(\u001b[38;5;124m'\u001b[39m\u001b[38;5;124mhttps://edwarddonner.com\u001b[39m\u001b[38;5;124m'\u001b[39m)\n\u001b[1;32m----> 2\u001b[0m \u001b[38;5;28mprint\u001b[39m(ed\u001b[38;5;241m.\u001b[39mget_contents)\n",
      "\u001b[1;31mAttributeError\u001b[0m: 'Website' object has no attribute 'get_contents'"
     ]
    }
   ],
   "source": [
    "ed = Website('https://edwarddonner.com')\n",
    "print(ed.get_contents)\n"
   ]
  },
  {
   "cell_type": "code",
   "execution_count": null,
   "id": "2fbe8ca6-4a4c-4d89-aea2-e949fe2ca2a2",
   "metadata": {},
   "outputs": [],
   "source": []
  }
 ],
 "metadata": {
  "kernelspec": {
   "display_name": "Python 3 (ipykernel)",
   "language": "python",
   "name": "python3"
  },
  "language_info": {
   "codemirror_mode": {
    "name": "ipython",
    "version": 3
   },
   "file_extension": ".py",
   "mimetype": "text/x-python",
   "name": "python",
   "nbconvert_exporter": "python",
   "pygments_lexer": "ipython3",
   "version": "3.12.7"
  }
 },
 "nbformat": 4,
 "nbformat_minor": 5
}
