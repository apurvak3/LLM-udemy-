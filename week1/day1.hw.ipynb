{
 "cells": [
  {
   "cell_type": "code",
   "execution_count": 24,
   "id": "26de890d-22fe-4c9b-82c3-50f15f98aca4",
   "metadata": {},
   "outputs": [],
   "source": [
    "import os\n",
    "import requests\n",
    "from dotenv import load_dotenv\n",
    "from bs4 import BeautifulSoup\n",
    "from IPython.display import Markdown , display\n",
    "from openai import OpenAI \n",
    "\n",
    "\n",
    "\n",
    "                "
   ]
  },
  {
   "cell_type": "code",
   "execution_count": 26,
   "id": "7bd128cf-b228-4bc3-91c6-84a16be780c0",
   "metadata": {},
   "outputs": [],
   "source": [
    "OLLAMA_API = \"http://localhost:11434/api/chat\"\n",
    "HEADERS = {\"Content-Type\": \"application/json\"}\n",
    "MODEL = \"llama3.2\""
   ]
  },
  {
   "cell_type": "code",
   "execution_count": 28,
   "id": "05d9a780-6cba-4c70-b6cd-b45fc9702455",
   "metadata": {},
   "outputs": [
    {
     "name": "stdout",
     "output_type": "stream",
     "text": [
      "Api key was found and look good so far\n"
     ]
    }
   ],
   "source": [
    "load_dotenv()\n",
    "api_key = os.getenv('OPENAI_API_KEY')\n",
    "\n",
    "if not api_key:\n",
    "  print(\"no Api key was found\")\n",
    "else:\n",
    "  print(\"Api key was found and look good so far\")"
   ]
  },
  {
   "cell_type": "code",
   "execution_count": 30,
   "id": "788977d0-3a61-4d76-8a73-6c0292dc96b7",
   "metadata": {},
   "outputs": [],
   "source": [
    "openai = OpenAI()\n"
   ]
  },
  {
   "cell_type": "code",
   "execution_count": 32,
   "id": "4c12ddbd-2c9f-45d8-9df6-4a5bfd75789a",
   "metadata": {},
   "outputs": [],
   "source": [
    "system_prompt = \"You are an ai assistant. and you have to go through the email and extract the perfect subject for the email\"\n",
    "user_prompt= \"\"\"\n",
    "              lots of texts or email can be pasted here\n",
    "              \"\"\""
   ]
  },
  {
   "cell_type": "code",
   "execution_count": 36,
   "id": "8168012b-f885-4a09-8c79-3342f1fc7a55",
   "metadata": {},
   "outputs": [],
   "source": [
    "message=[{\"role\":\"system\", \"message\":\"you are a snarky ai assistant\"},\n",
    "         {\"role\":\"user\", \"message\":\"message\"}\n",
    "]\n",
    "\n"
   ]
  },
  {
   "cell_type": "raw",
   "id": "37c9a8b2-c88d-4ba2-af59-f07b001763cd",
   "metadata": {},
   "source": [
    "response = ollama_via_openai.chat.completion.create(\n",
    "    model :MODEL,\n",
    "    messages:messages\n",
    ")\n",
    "print(response.choices[0].message.content)\n"
   ]
  }
 ],
 "metadata": {
  "kernelspec": {
   "display_name": "Python [conda env:base] *",
   "language": "python",
   "name": "conda-base-py"
  },
  "language_info": {
   "codemirror_mode": {
    "name": "ipython",
    "version": 3
   },
   "file_extension": ".py",
   "mimetype": "text/x-python",
   "name": "python",
   "nbconvert_exporter": "python",
   "pygments_lexer": "ipython3",
   "version": "3.12.7"
  }
 },
 "nbformat": 4,
 "nbformat_minor": 5
}
